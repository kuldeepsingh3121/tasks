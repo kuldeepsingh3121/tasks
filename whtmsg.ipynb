{
 "cells": [
  {
   "cell_type": "code",
   "execution_count": null,
   "id": "aae477e8-3ff7-4093-9a8f-60f625e83362",
   "metadata": {},
   "outputs": [],
   "source": [
    "pip install pywhatkit\n",
    "\n",
    "\n"
   ]
  },
  {
   "cell_type": "code",
   "execution_count": 4,
   "id": "b1f4ad29-fa83-4faa-a019-55c81a189fc9",
   "metadata": {},
   "outputs": [
    {
     "name": "stdout",
     "output_type": "stream",
     "text": [
      "In 41 Seconds WhatsApp will open and after 15 Seconds Message will be Delivered!\n"
     ]
    }
   ],
   "source": [
    "import pywhatkit\n",
    "\n",
    "# Parameters\n",
    "phone_number = \"+919983XXXXXX\"  #mobile no.whom to send\n",
    "message = \"Hello, this is an code testing message from kuldeep!\"\n",
    "hour = 16  # 24-hour format\n",
    "minute = 37\n",
    "\n",
    "# Send the message\n",
    "pywhatkit.sendwhatmsg(phone_number, message, hour, minute)"
   ]
  },
  {
   "cell_type": "code",
   "execution_count": null,
   "id": "e7ad0499-1a24-4575-a364-2bb2f4059955",
   "metadata": {},
   "outputs": [],
   "source": []
  }
 ],
 "metadata": {
  "kernelspec": {
   "display_name": "Python 3 (ipykernel)",
   "language": "python",
   "name": "python3"
  },
  "language_info": {
   "codemirror_mode": {
    "name": "ipython",
    "version": 3
   },
   "file_extension": ".py",
   "mimetype": "text/x-python",
   "name": "python",
   "nbconvert_exporter": "python",
   "pygments_lexer": "ipython3",
   "version": "3.12.3"
  }
 },
 "nbformat": 4,
 "nbformat_minor": 5
}
