{
 "cells": [
  {
   "cell_type": "code",
   "execution_count": 1,
   "id": "0fbe61f0-c7fa-47dd-9177-c222b0902b67",
   "metadata": {},
   "outputs": [
    {
     "name": "stdout",
     "output_type": "stream",
     "text": [
      "❌ Failed to send email: (535, b'5.7.8 Username and Password not accepted. For more information, go to\\n5.7.8  https://support.google.com/mail/?p=BadCredentials d9443c01a7336-23c8431e14fsm62058395ad.14 - gsmtp')\n"
     ]
    }
   ],
   "source": [
    "import smtplib\n",
    "from email.mime.text import MIMEText\n",
    "from email.mime.multipart import MIMEMultipart\n",
    "\n",
    "# Email credentials\n",
    "sender_email = \"your_email@gmail.com\"\n",
    "app_password = \"your_app_password\"  # use app password, not real password\n",
    "receiver_email = \"receiver_email@example.com\"\n",
    "\n",
    "# Create message\n",
    "subject = \"Test Email from Python\"\n",
    "body = \"Hello! This is a test email sent from my Python script.\"\n",
    "\n",
    "msg = MIMEMultipart()\n",
    "msg['From'] = sender_email\n",
    "msg['To'] = receiver_email\n",
    "msg['Subject'] = subject\n",
    "\n",
    "msg.attach(MIMEText(body, 'plain'))\n",
    "\n",
    "# Connect to Gmail SMTP and send email\n",
    "try:\n",
    "    server = smtplib.SMTP(\"smtp.gmail.com\", 587)\n",
    "    server.starttls()\n",
    "    server.login(sender_email, app_password)\n",
    "    server.send_message(msg)\n",
    "    server.quit()\n",
    "    print(\"✅ Email sent successfully!\")\n",
    "except Exception as e:\n",
    "    print(\"❌ Failed to send email:\", e)\n"
   ]
  },
  {
   "cell_type": "code",
   "execution_count": null,
   "id": "644de2b8-a169-42b1-a049-dd1b8f39ff63",
   "metadata": {},
   "outputs": [],
   "source": []
  }
 ],
 "metadata": {
  "kernelspec": {
   "display_name": "Python 3 (ipykernel)",
   "language": "python",
   "name": "python3"
  },
  "language_info": {
   "codemirror_mode": {
    "name": "ipython",
    "version": 3
   },
   "file_extension": ".py",
   "mimetype": "text/x-python",
   "name": "python",
   "nbconvert_exporter": "python",
   "pygments_lexer": "ipython3",
   "version": "3.12.3"
  }
 },
 "nbformat": 4,
 "nbformat_minor": 5
}
